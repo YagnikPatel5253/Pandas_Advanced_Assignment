{
 "cells": [
  {
   "cell_type": "markdown",
   "id": "26759554-3e9c-4caf-8acd-f1d800af9274",
   "metadata": {},
   "source": [
    "Question 1"
   ]
  },
  {
   "cell_type": "raw",
   "id": "a60ab99a-6e34-42be-ad63-3d9fc4215020",
   "metadata": {},
   "source": [
    "1) head(): The head() function is used to display the first n rows of a DataFrame. By default, it displays the first five rows."
   ]
  },
  {
   "cell_type": "code",
   "execution_count": 5,
   "id": "13f7afc1-6dcc-4595-a5bf-28b87b7437f5",
   "metadata": {},
   "outputs": [
    {
     "name": "stdout",
     "output_type": "stream",
     "text": [
      "      Name  Age      City\n",
      "0     John   25  New York\n",
      "1    Alice   28    London\n",
      "2      Bob   22     Paris\n",
      "3    Emily   30     Tokyo\n",
      "4  Michael   35    Sydney\n"
     ]
    }
   ],
   "source": [
    "import pandas as pd\n",
    "\n",
    "data = {'Name': ['John', 'Alice', 'Bob', 'Emily', 'Michael','yagnik'],\n",
    "        'Age': [25, 28, 22, 30, 35, 18],\n",
    "        'City': ['New York', 'London', 'Paris', 'Tokyo', 'Sydney','Vadodara']}\n",
    "\n",
    "df = pd.DataFrame(data)\n",
    "print(df.head())"
   ]
  },
  {
   "cell_type": "raw",
   "id": "ce2002d8-9d96-42d7-a631-2b4a3d2ef5b6",
   "metadata": {},
   "source": [
    "2) read_csv(): This function is used to read a CSV file and create a pandas DataFrame.\n",
    "\n",
    "import pandas as pd\n",
    "\n",
    "# Read a CSV file into a DataFrame\n",
    "data = pd.read_csv('data.csv')\n",
    "print(data.head())"
   ]
  },
  {
   "cell_type": "raw",
   "id": "680048ab-17bc-40c5-a635-3d41593e1a8f",
   "metadata": {},
   "source": [
    "3) describe(): The describe() function generates descriptive statistics of the DataFrame, such as count, mean, standard deviation, minimum, maximum, and quartiles."
   ]
  },
  {
   "cell_type": "code",
   "execution_count": 9,
   "id": "511601ef-012b-4a28-8aec-57ac6f574205",
   "metadata": {},
   "outputs": [
    {
     "name": "stdout",
     "output_type": "stream",
     "text": [
      "             Age\n",
      "count   5.000000\n",
      "mean   28.000000\n",
      "std     4.949747\n",
      "min    22.000000\n",
      "25%    25.000000\n",
      "50%    28.000000\n",
      "75%    30.000000\n",
      "max    35.000000\n"
     ]
    }
   ],
   "source": [
    "import pandas as pd\n",
    "\n",
    "data = {'Name': ['Yagnik', 'Alice', 'Bob', 'Emily', 'Michael'],\n",
    "        'Age': [25, 28, 22, 30, 35],\n",
    "        'City': ['India', 'London', 'Paris', 'Tokyo', 'Sydney']}\n",
    "\n",
    "df = pd.DataFrame(data)\n",
    "\n",
    "print(df.describe())"
   ]
  },
  {
   "cell_type": "raw",
   "id": "f0ba6298-5882-4291-90ca-e263768ac399",
   "metadata": {},
   "source": [
    "4) groupby(): The groupby() function is used to group data in a DataFrame based on specified columns. It is often used in combination with an aggregation function, such as sum(), mean(), or count(), to compute group-level summary statistics."
   ]
  },
  {
   "cell_type": "code",
   "execution_count": 11,
   "id": "d3912895-fa8d-4df8-8580-6407987304bd",
   "metadata": {},
   "outputs": [
    {
     "name": "stdout",
     "output_type": "stream",
     "text": [
      "City\n",
      "London      6000.0\n",
      "New York    5000.0\n",
      "Paris       5500.0\n",
      "Sydney      7000.0\n",
      "Tokyo       4500.0\n",
      "Name: Salary, dtype: float64\n"
     ]
    }
   ],
   "source": [
    "import pandas as pd\n",
    "\n",
    "data = {'Name': ['John', 'Alice', 'Bob', 'Emily', 'Michael'],\n",
    "        'City': ['New York', 'London', 'Paris', 'Tokyo', 'Sydney'],\n",
    "        'Salary': [5000, 6000, 5500, 4500, 7000]}\n",
    "\n",
    "df = pd.DataFrame(data)\n",
    "\n",
    "# Group data by City and compute the mean salary\n",
    "grouped_data = df.groupby('City')['Salary'].mean()\n",
    "print(grouped_data)"
   ]
  },
  {
   "cell_type": "raw",
   "id": "e2d46153-3d1d-4c36-851e-4a5f7018b709",
   "metadata": {},
   "source": [
    "5) sort_values(): The sort_values() function is used to sort the DataFrame by one or more columns. By default, it sorts in ascending order."
   ]
  },
  {
   "cell_type": "code",
   "execution_count": 12,
   "id": "37bb1f89-833b-4dcf-a20f-bd9693af0240",
   "metadata": {},
   "outputs": [
    {
     "name": "stdout",
     "output_type": "stream",
     "text": [
      "      Name  Age      City\n",
      "4  Michael   35    Sydney\n",
      "3    Emily   30     Tokyo\n",
      "1    Alice   28    London\n",
      "0     John   25  New York\n",
      "2      Bob   22     Paris\n"
     ]
    }
   ],
   "source": [
    "import pandas as pd\n",
    "\n",
    "# Create a DataFrame\n",
    "data = {'Name': ['John', 'Alice', 'Bob', 'Emily', 'Michael'],\n",
    "        'Age': [25, 28, 22, 30, 35],\n",
    "        'City': ['New York', 'London', 'Paris', 'Tokyo', 'Sydney']}\n",
    "\n",
    "df = pd.DataFrame(data)\n",
    "\n",
    "# Sort the DataFrame by Age in descending order\n",
    "sorted_data = df.sort_values('Age', ascending=False)\n",
    "print(sorted_data)\n"
   ]
  },
  {
   "cell_type": "markdown",
   "id": "7ae94dec-5067-4db7-81c2-7f9ad02ab569",
   "metadata": {},
   "source": [
    "Question 2"
   ]
  },
  {
   "cell_type": "code",
   "execution_count": 14,
   "id": "d3afb6d8-57ff-4a5a-93f6-9addb3fa8362",
   "metadata": {},
   "outputs": [
    {
     "name": "stdout",
     "output_type": "stream",
     "text": [
      "      Name  Age      City\n",
      "1     John   25  New York\n",
      "3    Alice   28    London\n",
      "5      Bob   22     Paris\n",
      "7    Emily   30     Tokyo\n",
      "9  Michael   35    Sydney\n"
     ]
    }
   ],
   "source": [
    "import pandas as pd\n",
    "\n",
    "def reindex_dataframe(df):\n",
    "    # Reset the index with a new index starting from 1 and incrementing by 2\n",
    "    df.reset_index(drop=True, inplace=True)\n",
    "    df.index = df.index * 2 + 1\n",
    "    return df\n",
    "\n",
    "reindexed_df = reindex_dataframe(df)\n",
    "print(reindexed_df)"
   ]
  },
  {
   "cell_type": "markdown",
   "id": "36d837f5-6248-4df6-85fa-83ce0324c5f7",
   "metadata": {},
   "source": [
    "Question 3"
   ]
  },
  {
   "cell_type": "code",
   "execution_count": 1,
   "id": "f157ddad-6fcd-4d95-b065-0ae4b10d9907",
   "metadata": {},
   "outputs": [
    {
     "name": "stdout",
     "output_type": "stream",
     "text": [
      "Sum of the first three values: 60\n"
     ]
    }
   ],
   "source": [
    "import pandas as pd\n",
    "\n",
    "data = {'Values': [10, 20, 30, 40, 50]}\n",
    "df = pd.DataFrame(data)\n",
    "\n",
    "def calculate_sum(df):\n",
    "    values = df['Values'].values[:3]\n",
    "    sum_values = sum(values)\n",
    "    print(\"Sum of the first three values:\", sum_values)\n",
    "calculate_sum(df)"
   ]
  },
  {
   "cell_type": "markdown",
   "id": "8204065d-c3ad-4e17-8c81-cf775a297ee7",
   "metadata": {},
   "source": [
    "Question 4"
   ]
  },
  {
   "cell_type": "code",
   "execution_count": 3,
   "id": "cff9c4a3-bdd7-47be-b1ff-1bbe85702759",
   "metadata": {},
   "outputs": [
    {
     "name": "stdout",
     "output_type": "stream",
     "text": [
      "                         Text  Word_Count\n",
      "0  This is a sample sentence.           5\n",
      "1      Another sentence here.           3\n",
      "2            Python is great!           3\n"
     ]
    }
   ],
   "source": [
    "import pandas as pd\n",
    "\n",
    "data = {'Text': ['This is a sample sentence.',\n",
    "                 'Another sentence here.',\n",
    "                 'Python is great!']}\n",
    "df = pd.DataFrame(data)\n",
    "\n",
    "# Define the function to add the 'Word_Count' column\n",
    "def add_word_count(df):\n",
    "    \n",
    "    df['Word_Count'] = df['Text'].apply(lambda x: len(str(x).split()))\n",
    "\n",
    "add_word_count(df)\n",
    "print(df)"
   ]
  },
  {
   "cell_type": "markdown",
   "id": "931d4e22-7e52-4faa-bf7f-e63f6fa547c3",
   "metadata": {},
   "source": [
    "Question 5"
   ]
  },
  {
   "cell_type": "raw",
   "id": "43b43d42-26cc-4e1f-94dd-c69b04d33aea",
   "metadata": {},
   "source": [
    "DataFrame.size: This attribute returns the total number of elements in the DataFrame, which is equal to the number of rows multiplied by the number of columns.\n",
    "\n",
    "DataFrame.shape: This attribute returns a tuple containing the number of rows and columns in the DataFrame. The shape is represented as (number of rows, number of columns)."
   ]
  },
  {
   "cell_type": "code",
   "execution_count": 4,
   "id": "9b0617fe-1b7c-419e-a453-70c10f08b55f",
   "metadata": {},
   "outputs": [
    {
     "name": "stdout",
     "output_type": "stream",
     "text": [
      "DataFrame.size: 9\n",
      "DataFrame.shape: (3, 3)\n"
     ]
    }
   ],
   "source": [
    "import pandas as pd\n",
    "\n",
    "# Create a DataFrame\n",
    "data = {'Column1': [1, 2, 3],\n",
    "        'Column2': [4, 5, 6],\n",
    "        'Column3': [7, 8, 9]}\n",
    "df = pd.DataFrame(data)\n",
    "\n",
    "# DataFrame.size\n",
    "print(\"DataFrame.size:\", df.size)\n",
    "\n",
    "# DataFrame.shape\n",
    "print(\"DataFrame.shape:\", df.shape)\n"
   ]
  },
  {
   "cell_type": "markdown",
   "id": "92ba5a20-4e02-499b-ba7d-fb4387962d11",
   "metadata": {},
   "source": [
    "Question 6"
   ]
  },
  {
   "cell_type": "raw",
   "id": "1a1b3eb5-d67e-45bb-bd98-9f0e82ffcd1c",
   "metadata": {},
   "source": [
    "--> To read an Excel file in pandas, we can use the read_excel() function.\\\n",
    "\n",
    "Example:\n",
    "import pandas as pd\n",
    "\n",
    "# Read an Excel file into a DataFrame\n",
    "df = pd.read_excel('data.xlsx')\n",
    "print(df.head())"
   ]
  },
  {
   "cell_type": "markdown",
   "id": "4dee99f0-4729-4fac-a585-cb3cbb51d959",
   "metadata": {},
   "source": [
    "Question 7"
   ]
  },
  {
   "cell_type": "code",
   "execution_count": 6,
   "id": "3828a774-7615-4260-8c3f-2329a5926cfe",
   "metadata": {},
   "outputs": [
    {
     "name": "stdout",
     "output_type": "stream",
     "text": [
      "                          Email          Username\n",
      "0       yagnikpatel@example.com       yagnikpatel\n",
      "1       niyatidonda@example.com       niyatidonda\n",
      "2  alexander.wilson@example.com  alexander.wilson\n"
     ]
    }
   ],
   "source": [
    "import pandas as pd\n",
    "\n",
    "# Create a DataFrame with an 'Email' column\n",
    "data = {'Email': ['yagnikpatel@example.com',\n",
    "                  'niyatidonda@example.com',\n",
    "                  'alexander.wilson@example.com']}\n",
    "df = pd.DataFrame(data)\n",
    "\n",
    "def extract_username(df):\n",
    "    # Extract the username from each email address\n",
    "    df['Username'] = df['Email'].str.split('@').str[0]\n",
    "\n",
    "# Call the function to extract usernames and create the 'Username' column\n",
    "extract_username(df)\n",
    "print(df)"
   ]
  },
  {
   "cell_type": "markdown",
   "id": "b3b5ffb9-f560-4514-b2f9-9c5a56505fd9",
   "metadata": {},
   "source": [
    "Question 8"
   ]
  },
  {
   "cell_type": "code",
   "execution_count": 12,
   "id": "05856126-c206-4984-9372-d9b989e4c1cc",
   "metadata": {},
   "outputs": [
    {
     "name": "stdout",
     "output_type": "stream",
     "text": [
      "   A  B  C\n",
      "1  8  2  7\n",
      "2  6  9  4\n",
      "4  9  1  2\n"
     ]
    }
   ],
   "source": [
    "import pandas as pd\n",
    "\n",
    "def select_rows(df):\n",
    "    selected_rows = df[(df['A'] > 5) & (df['B'] < 10)]\n",
    "    return selected_rows.copy()\n",
    "\n",
    "data = {'A': [3, 8, 6, 2, 9],\n",
    "        'B': [5, 2, 9, 3, 1],\n",
    "        'C': [1, 7, 4, 5, 2]}\n",
    "df = pd.DataFrame(data)\n",
    "\n",
    "selected_df = select_rows(df)\n",
    "\n",
    "# Print the selected DataFrame\n",
    "print(selected_df)"
   ]
  },
  {
   "cell_type": "markdown",
   "id": "bf499b89-74de-4918-961c-8a967f3a55ea",
   "metadata": {},
   "source": [
    "Question 9"
   ]
  },
  {
   "cell_type": "code",
   "execution_count": 17,
   "id": "c2e93c44-8a4a-432f-863b-fb7413385110",
   "metadata": {},
   "outputs": [
    {
     "name": "stdout",
     "output_type": "stream",
     "text": [
      "Mean: 20.0\n",
      "Median: 20.0\n",
      "Standard Deviation: 7.905694150420948\n"
     ]
    }
   ],
   "source": [
    "import pandas as pd\n",
    "\n",
    "def calculate_stats(df):\n",
    "    values = df['Values']\n",
    "    mean = values.mean()\n",
    "    median = values.median()\n",
    "    std_dev = values.std()\n",
    "    return mean, median, std_dev\n",
    "\n",
    "data = {'Values': [10, 15, 20, 25, 30]}\n",
    "df = pd.DataFrame(data)\n",
    "\n",
    "mean_val, median_val, std_dev_val = calculate_stats(df)\n",
    "\n",
    "print(\"Mean:\", mean_val)\n",
    "print(\"Median:\", median_val)\n",
    "print(\"Standard Deviation:\", std_dev_val)"
   ]
  },
  {
   "cell_type": "markdown",
   "id": "e50100b0-8b07-4905-8761-bda115858db4",
   "metadata": {},
   "source": [
    "Question 10"
   ]
  },
  {
   "cell_type": "code",
   "execution_count": 23,
   "id": "48e793cd-c7ac-4ee0-83d1-aee881e98b72",
   "metadata": {},
   "outputs": [
    {
     "name": "stdout",
     "output_type": "stream",
     "text": [
      "        Date  Sales  MovingAverage\n",
      "0 2023-06-20    100     100.000000\n",
      "1 2023-06-21    150     125.000000\n",
      "2 2023-06-22    200     150.000000\n",
      "3 2023-06-23    120     142.500000\n",
      "4 2023-06-24    180     150.000000\n",
      "5 2023-06-25    250     166.666667\n",
      "6 2023-06-26    170     167.142857\n"
     ]
    }
   ],
   "source": [
    "import pandas as pd\n",
    "\n",
    "data = {'Date': ['2023-06-20', '2023-06-21', '2023-06-22', '2023-06-23', '2023-06-24', '2023-06-25', '2023-06-26'],\n",
    "        'Sales': [100, 150, 200, 120, 180, 250, 170]}\n",
    "df = pd.DataFrame(data)\n",
    "\n",
    "# Convert 'Date' column to datetime\n",
    "df['Date'] = pd.to_datetime(df['Date'])\n",
    "\n",
    "# Define the function to calculate moving average\n",
    "def calculate_moving_average(df):\n",
    "    df['MovingAverage'] = df['Sales'].rolling(window=7, min_periods=1).mean()\n",
    "    return df\n",
    "\n",
    "# Apply the function to calculate moving average\n",
    "df = calculate_moving_average(df)\n",
    "\n",
    "# Print the updated DataFrame\n",
    "print(df)"
   ]
  },
  {
   "cell_type": "markdown",
   "id": "77122205-a921-4372-b401-8c39799bd4d3",
   "metadata": {},
   "source": [
    "Question 11"
   ]
  },
  {
   "cell_type": "code",
   "execution_count": 24,
   "id": "3c3e0ca0-ac35-4b7f-ae98-00355e5289a2",
   "metadata": {},
   "outputs": [
    {
     "name": "stdout",
     "output_type": "stream",
     "text": [
      "        Date    Weekday\n",
      "0 2023-01-01     Sunday\n",
      "1 2023-01-02     Monday\n",
      "2 2023-01-03    Tuesday\n",
      "3 2023-01-04  Wednesday\n",
      "4 2023-01-05   Thursday\n"
     ]
    }
   ],
   "source": [
    "import pandas as pd\n",
    "\n",
    "data = {'Date': ['2023-01-01', '2023-01-02', '2023-01-03', '2023-01-04', '2023-01-05']}\n",
    "df = pd.DataFrame(data)\n",
    "\n",
    "# Convert 'Date' column to datetime\n",
    "df['Date'] = pd.to_datetime(df['Date'])\n",
    "\n",
    "# Define the function to add weekday column\n",
    "def add_weekday_column(df):\n",
    "    df['Weekday'] = df['Date'].dt.day_name()\n",
    "    return df\n",
    "\n",
    "# Apply the function to add weekday column\n",
    "df = add_weekday_column(df)\n",
    "\n",
    "# Print the updated DataFrame\n",
    "print(df)\n"
   ]
  },
  {
   "cell_type": "markdown",
   "id": "7e58a554-4184-4c82-8aea-cda5df290895",
   "metadata": {},
   "source": [
    "Question 12"
   ]
  },
  {
   "cell_type": "code",
   "execution_count": 9,
   "id": "dfb273e6-d5d6-452b-8707-c75dbc99dad3",
   "metadata": {},
   "outputs": [
    {
     "name": "stdout",
     "output_type": "stream",
     "text": [
      "        Date  Value\n",
      "0 2023-01-01     10\n",
      "1 2023-01-15     20\n",
      "2 2023-01-20     30\n"
     ]
    }
   ],
   "source": [
    "import pandas as pd\n",
    "\n",
    "def select_rows_between_dates(df):\n",
    "    # Convert 'Date' column to datetime type\n",
    "    df['Date'] = pd.to_datetime(df['Date'])\n",
    "    \n",
    "    # Select rows where date is between '2023-01-01' and '2023-01-31'\n",
    "    start_date = pd.to_datetime('2023-01-01')\n",
    "    end_date = pd.to_datetime('2023-01-31')\n",
    "    selected_rows = df[(df['Date'] >= start_date) & (df['Date'] <= end_date)]\n",
    "    \n",
    "    return selected_rows\n",
    "\n",
    "# Create a sample DataFrame\n",
    "data = {\n",
    "    'Date': ['2023-01-01', '2023-01-15', '2023-01-20', '2023-02-05', '2023-03-10'],\n",
    "    'Value': [10, 20, 30, 40, 50]\n",
    "}\n",
    "\n",
    "df = pd.DataFrame(data)\n",
    "\n",
    "# Call the function to select rows between '2023-01-01' and '2023-01-31'\n",
    "selected_rows = select_rows_between_dates(df)\n",
    "\n",
    "# Print the selected rows\n",
    "print(selected_rows)\n"
   ]
  },
  {
   "cell_type": "markdown",
   "id": "e2c6f494-5509-4333-9d6f-f4e151410b32",
   "metadata": {},
   "source": [
    "Question 13"
   ]
  },
  {
   "cell_type": "raw",
   "id": "880f2d52-5156-41c2-b2de-98607804131d",
   "metadata": {},
   "source": [
    "--> To use the basic functions of pandas, the first and foremost necessary library that needs to be imported is pandas itself."
   ]
  }
 ],
 "metadata": {
  "kernelspec": {
   "display_name": "Python 3 (ipykernel)",
   "language": "python",
   "name": "python3"
  },
  "language_info": {
   "codemirror_mode": {
    "name": "ipython",
    "version": 3
   },
   "file_extension": ".py",
   "mimetype": "text/x-python",
   "name": "python",
   "nbconvert_exporter": "python",
   "pygments_lexer": "ipython3",
   "version": "3.10.8"
  }
 },
 "nbformat": 4,
 "nbformat_minor": 5
}
